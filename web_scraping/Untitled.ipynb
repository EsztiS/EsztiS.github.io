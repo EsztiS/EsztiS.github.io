{
 "cells": [
  {
   "cell_type": "code",
   "execution_count": 1,
   "metadata": {
    "collapsed": false
   },
   "outputs": [],
   "source": [
    "import requests\n",
    "import re\n",
    "from bs4 import BeautifulSoup\n",
    "import matplotlib.pyplot as plt\n",
    "from itertools import chain\n",
    "# 'http://www.socialbrite.org/cause-organizations/'\n",
    "# 'http://www.usgovernmentspending.com/breakdown2016_0.html'\n",
    "# 'http://www.washingtonpost.com/blogs/wonkblog/wp/2015/03/17/the-mysterious-1-1-trillion-in-spending-cuts-in-the-house-gops-budget/\n",
    "# 'http://www.thefiscaltimes.com/2015/03/23/House-Democrats-Push-Back-Against-GOP-Spending-Cuts'\n",
    "import numpy as np\n",
    "%matplotlib inline\n",
    "plt.style.use('ggplot')\n",
    "commons = ['a','aboard','about','above','absent','across','after','against','all','along',\n",
    "           'alongside','amid','amidst','among','an','and','anti','around','as','at','atop',\n",
    "           'backward','forward',\n",
    "           'bar','barring','before','behind','below','beneath','beside','besides' ,'between',\n",
    "           'beyond','but','by','circa','counting','concerning','considering','despite','down',\n",
    "           'during','except','excepting','excluding','following','for','from','given','gone',\n",
    "           'in','inside','instead','into','is','less','like','mid','minus','near','next','of',\n",
    "           'off','on','onto','opposite','out','outside','over','past','pending','per','plus',\n",
    "           'pro','regarding','regardless' ,'round','save','saving','since','than','that','the',\n",
    "           'their','there','through','throughout','till','times','to','toward','towards',\n",
    "           'under','underneath','unlike','until','up','upon','versus' ,'via','with','within',\n",
    "           'without','worth','',' ','will','this','say','other']\n",
    "bad = ['|','','/','\\\\',u'\\u2014']\n",
    "\n",
    "class wsite(object):\n",
    "    def __init__(self, url):\n",
    "        self.url = url\n",
    "    \n",
    "    def get_text(self, console='no'):\n",
    "        agent = {\n",
    "                'Firefox' : 'Mozilla/5.0', \n",
    "                'Explorer': 'Windows NT 6.1',\n",
    "                'KHTML'   : 'AppleWebKit/537.36',\n",
    "                'Chrome'  : 'Chrome/41.0.2228.0',\n",
    "                'Safari'  : 'Safari/537.36'\n",
    "                }\n",
    "        a = True\n",
    "        for i in agent.values(): \n",
    "            while a:\n",
    "                p = requests.get(self.url, headers = {'User-Agent': i})\n",
    "                print 'Status Code: ',p.status_code\n",
    "                text = BeautifulSoup(p.text)\n",
    "                if text.title.get_text() == 'Not Acceptable!':\n",
    "                    continue\n",
    "                else:\n",
    "                    a = False\n",
    "        self.text = text\n",
    "        if console == 'yes':\n",
    "            return text\n",
    "    \n",
    "    def cache(self, cache_file):\n",
    "        # to work on offline. Note utf-8.\n",
    "        with open(cache_file, 'w') as f:\n",
    "            f.write(self.text.encode('utf-8'))\n",
    "                    \n",
    "    def pullSites(self, console='no'):\n",
    "        # get full links, not internal links (start with #)\n",
    "        # and don't count internal links (original)\n",
    "        atext = self.text.find_all('a',href=re.compile('^[^#]'))\n",
    "        self.atext = atext\n",
    "        orig = re.search('www\\.(.*)\\.', self.url).group(1) \n",
    "        allsites=[]\n",
    "        for i in range(len(atext)):\n",
    "            if 'http' in atext[i].attrs['href']:\n",
    "                if orig not in atext[i].attrs['href']:\n",
    "                    allsites.append(atext[i].attrs['href'])\n",
    "        self.allsites = allsites\n",
    "        if console == 'yes':\n",
    "            return allsites\n",
    "    \n",
    "    def removeDuplicates(self, console='no'):\n",
    "        # remove duplicate links\n",
    "        new = []\n",
    "        for i in self.allsites:\n",
    "            if i not in new:\n",
    "                new.append(i)\n",
    "        self.new = new\n",
    "        if console == 'yes':\n",
    "            return new\n",
    "    \n",
    "    def checkStatus(self, console='no'):\n",
    "        # get status of url link and sort accordingly\n",
    "        IL = [] # informational\n",
    "        OK = [] # success\n",
    "        RD = [] # re-directed\n",
    "        CE = [] # client error\n",
    "        SE = [] # server error\n",
    "        broken = []\n",
    "        for i in self.new:\n",
    "            try:\n",
    "                resp = requests.head(i)\n",
    "                if resp.status_code >= 500:\n",
    "                    SE.append(i)\n",
    "                elif resp.status_code >= 400:\n",
    "                    CE.append(i)\n",
    "                elif resp.status_code >= 300:\n",
    "                    RD.append(i)\n",
    "                elif resp.status_code >= 200:\n",
    "                    OK.append(i)\n",
    "                elif resp.status_code >= 100:\n",
    "                    IL.append(i)\n",
    "            except:\n",
    "                broken.append(i)\n",
    "        urls = [IL, OK, RD, CE, SE, broken]\n",
    "        self.urls = urls\n",
    "        if console == 'yes':\n",
    "            return urls\n",
    "        # future: fix by putting into dictionary with names\n",
    "    \n",
    "    def plt_status_codes(self, fs=12, wh=0.35):\n",
    "        hgh = map(lambda x: len(x), self.urls)\n",
    "        ind = np.arange(len(self.urls))\n",
    "        names = ['Info', 'Ok', 'Redirected', 'Client E', 'Server E', 'Broken']\n",
    "        total = sum(hgh)\n",
    "        percents = map(lambda x: round((float(x)/float(total))*100,1), hgh)\n",
    "        \n",
    "        fig = plt.figure(figsize=(7,7),dpi=600)\n",
    "        plt.bar(ind,hgh)\n",
    "        plt.ylabel('Count', fontsize = fs)\n",
    "        plt.title('URL Status Codes',fontsize=fs+4)\n",
    "        plt.xticks(ind+0.6/2,names,fontsize = fs)\n",
    "        plt.text(4,max(hgh)/2,'Total Sites: '+str(total), fontsize=fs)\n",
    "        for i in range(len(percents)):\n",
    "            plt.text(i + 0.3, hgh[i] + 0.1, str(percents[i])+'%')\n",
    "        plt.savefig('StatusCodes.pdf')\n",
    "        \n",
    "    def counting(self, console = 'no'):\n",
    "        apdict = {i: i.find_next_sibling(text=True) for i in self.atext}\n",
    "        counted = {}\n",
    "        comb_list = list(chain(urls[1],urls[2]))\n",
    "        for i,j in apdict.items():\n",
    "            if i['href'] in comb_list and j != None:\n",
    "                paragraph = {}\n",
    "                for word in j.split():\n",
    "                    word = word.strip('.,?!/|\\\\').lower()\n",
    "                    if word in paragraph:\n",
    "                        paragraph[word] += 1\n",
    "                    else:\n",
    "                        paragraph[word] = 1\n",
    "                counted[i['href']] = paragraph\n",
    "        if not any(counted.values()):\n",
    "            print 'No associated paragraphs'\n",
    "        else:\n",
    "            self.counted = counted\n",
    "        if console == 'yes':\n",
    "            return counted\n",
    "        \n",
    "    def plt_words(self, numb = 5):\n",
    "        allwords = {}\n",
    "        wcount = 0 \n",
    "        for i,j in self.counted.items():\n",
    "            for k,l in j.items():\n",
    "                wcount += l\n",
    "                if k not in allwords:\n",
    "                    allwords[k] = l\n",
    "                else:\n",
    "                    allwords[k] += l\n",
    "        \n",
    "        fig = plt.figure(figsize=(7,7),dpi=600)\n",
    "        ind = np.arange(numb)\n",
    "        for x in range(2):\n",
    "            percents=[]\n",
    "            if x == 0:\n",
    "                for i,j in allwords.items():\n",
    "                    plt.title('Top Real Words',fontsize=16)\n",
    "                    figname = 'Top_Real.pdf'\n",
    "                    if i not in commons and i not in bad:\n",
    "                        percents.append((i,float(j)/wcount*100))\n",
    "            elif x == 1:\n",
    "                for i,j in allwords.items():\n",
    "                    if i not in bad:\n",
    "                        plt.title('Top Words',fontsize=16)\n",
    "                        figname = 'Top_All.pdf'\n",
    "                        percents.append((i,float(j)/wcount*100))\n",
    "            \n",
    "            allsorted = sorted(percents,key=lambda x: x[1],reverse=True)\n",
    "            perc=[]\n",
    "            name=[]\n",
    "            for k in range(numb):\n",
    "                perc.append(allsorted[k][1])\n",
    "                name.append(allsorted[k][0])\n",
    "\n",
    "            plt.xlabel('Total Words: '+str(wcount), fontsize=12)\n",
    "            plt.bar(ind,perc)\n",
    "            plt.ylabel('Percent', fontsize = 12)\n",
    "            plt.xticks(ind+0.6/2,name,fontsize = 12, rotation=45)\n",
    "            plt.savefig(figname)"
   ]
  },
  {
   "cell_type": "code",
   "execution_count": 7,
   "metadata": {
    "collapsed": false
   },
   "outputs": [
    {
     "name": "stdout",
     "output_type": "stream",
     "text": [
      "Status Code:  200\n"
     ]
    }
   ],
   "source": [
    "s = wsite('http://www.thefiscaltimes.com/2015/03/23/House-Democrats-Push-Back-Against-GOP-Spending-Cuts')\n",
    "s.get_text()\n",
    "s.pullSites()\n",
    "s.removeDuplicates()"
   ]
  },
  {
   "cell_type": "code",
   "execution_count": 8,
   "metadata": {
    "collapsed": false
   },
   "outputs": [
    {
     "name": "stdout",
     "output_type": "stream",
     "text": [
      "CPU times: user 72.8 ms, sys: 7.63 ms, total: 80.4 ms\n",
      "Wall time: 3.98 s\n"
     ]
    }
   ],
   "source": [
    "%%time\n",
    "urls = s.checkStatus('yes')"
   ]
  },
  {
   "cell_type": "code",
   "execution_count": 9,
   "metadata": {
    "collapsed": false
   },
   "outputs": [
    {
     "data": {
      "image/png": "[encoded data removed]",
      "text/plain": [
       "<matplotlib.figure.Figure at 0x10f71bd50>"
      ]
     },
     "metadata": {},
     "output_type": "display_data"
    }
   ],
   "source": [
    "s.plt_status_codes()"
   ]
  },
  {
   "cell_type": "code",
   "execution_count": 10,
   "metadata": {
    "collapsed": false
   },
   "outputs": [],
   "source": [
    "counted = s.counting('yes')"
   ]
  },
  {
   "cell_type": "code",
   "execution_count": 11,
   "metadata": {
    "collapsed": false
   },
   "outputs": [
    {
     "data": {
      "image/png": "[encoded data removed]",
      "text/plain": [
       "<matplotlib.figure.Figure at 0x10f9b6890>"
      ]
     },
     "metadata": {},
     "output_type": "display_data"
    }
   ],
   "source": [
    "s.plt_words()"
   ]
  },
  {
   "cell_type": "code",
   "execution_count": 12,
   "metadata": {
    "collapsed": false
   },
   "outputs": [
    {
     "data": {
      "text/plain": [
       "29.224"
      ]
     },
     "execution_count": 12,
     "metadata": {},
     "output_type": "execute_result"
    }
   ],
   "source": [
    "(3653*0.8)/100"
   ]
  },
  {
   "cell_type": "code",
   "execution_count": 14,
   "metadata": {
    "collapsed": false
   },
   "outputs": [
    {
     "data": {
      "text/plain": [
       "0.027374760470845878"
      ]
     },
     "execution_count": 14,
     "metadata": {},
     "output_type": "execute_result"
    }
   ],
   "source": [
    "(1.0/3653.0)*100.0"
   ]
  },
  {
   "cell_type": "code",
   "execution_count": null,
   "metadata": {
    "collapsed": true
   },
   "outputs": [],
   "source": []
  }
 ],
 "metadata": {
  "kernelspec": {
   "display_name": "Python 2",
   "language": "python",
   "name": "python2"
  },
  "language_info": {
   "codemirror_mode": {
    "name": "ipython",
    "version": 2
   },
   "file_extension": ".py",
   "mimetype": "text/x-python",
   "name": "python",
   "nbconvert_exporter": "python",
   "pygments_lexer": "ipython2",
   "version": "2.7.10"
  }
 },
 "nbformat": 4,
 "nbformat_minor": 0
}
